{
 "cells": [
  {
   "cell_type": "code",
   "execution_count": 1,
   "metadata": {},
   "outputs": [],
   "source": [
    "import pandas as pd\n",
    "import numpy as np\n",
    "import seaborn as sb\n",
    "import matplotlib.pyplot as plt"
   ]
  },
  {
   "cell_type": "code",
   "execution_count": 2,
   "metadata": {},
   "outputs": [
    {
     "data": {
      "text/html": [
       "<div>\n",
       "<style scoped>\n",
       "    .dataframe tbody tr th:only-of-type {\n",
       "        vertical-align: middle;\n",
       "    }\n",
       "\n",
       "    .dataframe tbody tr th {\n",
       "        vertical-align: top;\n",
       "    }\n",
       "\n",
       "    .dataframe thead th {\n",
       "        text-align: right;\n",
       "    }\n",
       "</style>\n",
       "<table border=\"1\" class=\"dataframe\">\n",
       "  <thead>\n",
       "    <tr style=\"text-align: right;\">\n",
       "      <th></th>\n",
       "      <th>school</th>\n",
       "      <th>sex</th>\n",
       "      <th>age</th>\n",
       "      <th>address</th>\n",
       "      <th>famsize</th>\n",
       "      <th>Pstatus</th>\n",
       "      <th>Medu</th>\n",
       "      <th>Fedu</th>\n",
       "      <th>Mjob</th>\n",
       "      <th>Fjob</th>\n",
       "      <th>...</th>\n",
       "      <th>famrel</th>\n",
       "      <th>freetime</th>\n",
       "      <th>goout</th>\n",
       "      <th>Dalc</th>\n",
       "      <th>Walc</th>\n",
       "      <th>health</th>\n",
       "      <th>absences</th>\n",
       "      <th>G1</th>\n",
       "      <th>G2</th>\n",
       "      <th>G3</th>\n",
       "    </tr>\n",
       "  </thead>\n",
       "  <tbody>\n",
       "    <tr>\n",
       "      <th>0</th>\n",
       "      <td>GP</td>\n",
       "      <td>F</td>\n",
       "      <td>18</td>\n",
       "      <td>U</td>\n",
       "      <td>GT3</td>\n",
       "      <td>A</td>\n",
       "      <td>4</td>\n",
       "      <td>4</td>\n",
       "      <td>at_home</td>\n",
       "      <td>teacher</td>\n",
       "      <td>...</td>\n",
       "      <td>4</td>\n",
       "      <td>3</td>\n",
       "      <td>4</td>\n",
       "      <td>1</td>\n",
       "      <td>1</td>\n",
       "      <td>3</td>\n",
       "      <td>6</td>\n",
       "      <td>5</td>\n",
       "      <td>6</td>\n",
       "      <td>6</td>\n",
       "    </tr>\n",
       "    <tr>\n",
       "      <th>1</th>\n",
       "      <td>GP</td>\n",
       "      <td>F</td>\n",
       "      <td>17</td>\n",
       "      <td>U</td>\n",
       "      <td>GT3</td>\n",
       "      <td>T</td>\n",
       "      <td>1</td>\n",
       "      <td>1</td>\n",
       "      <td>at_home</td>\n",
       "      <td>other</td>\n",
       "      <td>...</td>\n",
       "      <td>5</td>\n",
       "      <td>3</td>\n",
       "      <td>3</td>\n",
       "      <td>1</td>\n",
       "      <td>1</td>\n",
       "      <td>3</td>\n",
       "      <td>4</td>\n",
       "      <td>5</td>\n",
       "      <td>5</td>\n",
       "      <td>6</td>\n",
       "    </tr>\n",
       "    <tr>\n",
       "      <th>2</th>\n",
       "      <td>GP</td>\n",
       "      <td>F</td>\n",
       "      <td>15</td>\n",
       "      <td>U</td>\n",
       "      <td>LE3</td>\n",
       "      <td>T</td>\n",
       "      <td>1</td>\n",
       "      <td>1</td>\n",
       "      <td>at_home</td>\n",
       "      <td>other</td>\n",
       "      <td>...</td>\n",
       "      <td>4</td>\n",
       "      <td>3</td>\n",
       "      <td>2</td>\n",
       "      <td>2</td>\n",
       "      <td>3</td>\n",
       "      <td>3</td>\n",
       "      <td>10</td>\n",
       "      <td>7</td>\n",
       "      <td>8</td>\n",
       "      <td>10</td>\n",
       "    </tr>\n",
       "    <tr>\n",
       "      <th>3</th>\n",
       "      <td>GP</td>\n",
       "      <td>F</td>\n",
       "      <td>15</td>\n",
       "      <td>U</td>\n",
       "      <td>GT3</td>\n",
       "      <td>T</td>\n",
       "      <td>4</td>\n",
       "      <td>2</td>\n",
       "      <td>health</td>\n",
       "      <td>services</td>\n",
       "      <td>...</td>\n",
       "      <td>3</td>\n",
       "      <td>2</td>\n",
       "      <td>2</td>\n",
       "      <td>1</td>\n",
       "      <td>1</td>\n",
       "      <td>5</td>\n",
       "      <td>2</td>\n",
       "      <td>15</td>\n",
       "      <td>14</td>\n",
       "      <td>15</td>\n",
       "    </tr>\n",
       "    <tr>\n",
       "      <th>4</th>\n",
       "      <td>GP</td>\n",
       "      <td>F</td>\n",
       "      <td>16</td>\n",
       "      <td>U</td>\n",
       "      <td>GT3</td>\n",
       "      <td>T</td>\n",
       "      <td>3</td>\n",
       "      <td>3</td>\n",
       "      <td>other</td>\n",
       "      <td>other</td>\n",
       "      <td>...</td>\n",
       "      <td>4</td>\n",
       "      <td>3</td>\n",
       "      <td>2</td>\n",
       "      <td>1</td>\n",
       "      <td>2</td>\n",
       "      <td>5</td>\n",
       "      <td>4</td>\n",
       "      <td>6</td>\n",
       "      <td>10</td>\n",
       "      <td>10</td>\n",
       "    </tr>\n",
       "  </tbody>\n",
       "</table>\n",
       "<p>5 rows × 33 columns</p>\n",
       "</div>"
      ],
      "text/plain": [
       "  school sex  age address famsize Pstatus  Medu  Fedu     Mjob      Fjob  ...  \\\n",
       "0     GP   F   18       U     GT3       A     4     4  at_home   teacher  ...   \n",
       "1     GP   F   17       U     GT3       T     1     1  at_home     other  ...   \n",
       "2     GP   F   15       U     LE3       T     1     1  at_home     other  ...   \n",
       "3     GP   F   15       U     GT3       T     4     2   health  services  ...   \n",
       "4     GP   F   16       U     GT3       T     3     3    other     other  ...   \n",
       "\n",
       "  famrel freetime  goout  Dalc  Walc health absences  G1  G2  G3  \n",
       "0      4        3      4     1     1      3        6   5   6   6  \n",
       "1      5        3      3     1     1      3        4   5   5   6  \n",
       "2      4        3      2     2     3      3       10   7   8  10  \n",
       "3      3        2      2     1     1      5        2  15  14  15  \n",
       "4      4        3      2     1     2      5        4   6  10  10  \n",
       "\n",
       "[5 rows x 33 columns]"
      ]
     },
     "execution_count": 2,
     "metadata": {},
     "output_type": "execute_result"
    }
   ],
   "source": [
    "path=\"https://raw.githubusercontent.com/Anasuya-Sahoo/DMDW-Lab/main/student-mat.csv\"\n",
    "df=pd.read_csv(path)\n",
    "df.head()"
   ]
  },
  {
   "cell_type": "markdown",
   "metadata": {},
   "source": [
    "### Correlation and covariance"
   ]
  },
  {
   "cell_type": "code",
   "execution_count": 4,
   "metadata": {},
   "outputs": [
    {
     "data": {
      "text/html": [
       "<div>\n",
       "<style scoped>\n",
       "    .dataframe tbody tr th:only-of-type {\n",
       "        vertical-align: middle;\n",
       "    }\n",
       "\n",
       "    .dataframe tbody tr th {\n",
       "        vertical-align: top;\n",
       "    }\n",
       "\n",
       "    .dataframe thead th {\n",
       "        text-align: right;\n",
       "    }\n",
       "</style>\n",
       "<table border=\"1\" class=\"dataframe\">\n",
       "  <thead>\n",
       "    <tr style=\"text-align: right;\">\n",
       "      <th></th>\n",
       "      <th>traveltime</th>\n",
       "      <th>studytime</th>\n",
       "    </tr>\n",
       "  </thead>\n",
       "  <tbody>\n",
       "    <tr>\n",
       "      <th>0</th>\n",
       "      <td>2</td>\n",
       "      <td>2</td>\n",
       "    </tr>\n",
       "    <tr>\n",
       "      <th>1</th>\n",
       "      <td>1</td>\n",
       "      <td>2</td>\n",
       "    </tr>\n",
       "    <tr>\n",
       "      <th>2</th>\n",
       "      <td>1</td>\n",
       "      <td>2</td>\n",
       "    </tr>\n",
       "    <tr>\n",
       "      <th>3</th>\n",
       "      <td>1</td>\n",
       "      <td>3</td>\n",
       "    </tr>\n",
       "    <tr>\n",
       "      <th>4</th>\n",
       "      <td>1</td>\n",
       "      <td>2</td>\n",
       "    </tr>\n",
       "  </tbody>\n",
       "</table>\n",
       "</div>"
      ],
      "text/plain": [
       "   traveltime  studytime\n",
       "0           2          2\n",
       "1           1          2\n",
       "2           1          2\n",
       "3           1          3\n",
       "4           1          2"
      ]
     },
     "execution_count": 4,
     "metadata": {},
     "output_type": "execute_result"
    }
   ],
   "source": [
    "dfn=df[['traveltime','studytime']]\n",
    "dfn.head()"
   ]
  },
  {
   "cell_type": "code",
   "execution_count": 5,
   "metadata": {},
   "outputs": [
    {
     "data": {
      "image/png": "[encoded data removed]",
      "text/plain": [
       "<Figure size 432x288 with 1 Axes>"
      ]
     },
     "metadata": {
      "needs_background": "light"
     },
     "output_type": "display_data"
    }
   ],
   "source": [
    "x=dfn['traveltime']\n",
    "y=dfn['studytime']\n",
    "sb.lineplot(x,y,dashes=True)\n",
    "plt.show()"
   ]
  },
  {
   "cell_type": "code",
   "execution_count": 6,
   "metadata": {},
   "outputs": [
    {
     "name": "stdout",
     "output_type": "stream",
     "text": [
      "            traveltime  studytime\n",
      "traveltime    1.000000  -0.100909\n",
      "studytime    -0.100909   1.000000\n"
     ]
    },
    {
     "data": {
      "image/png": "[encoded data removed]",
      "text/plain": [
       "<Figure size 432x288 with 2 Axes>"
      ]
     },
     "metadata": {
      "needs_background": "light"
     },
     "output_type": "display_data"
    }
   ],
   "source": [
    "#CORRELATION analysis\n",
    "from scipy.stats import norm\n",
    "corelation=dfn.corr()\n",
    "print(corelation)\n",
    "sb.heatmap(corelation,cmap=\"YlGnBu\")\n",
    "plt.show()"
   ]
  },
  {
   "cell_type": "code",
   "execution_count": 7,
   "metadata": {},
   "outputs": [
    {
     "name": "stdout",
     "output_type": "stream",
     "text": [
      "            traveltime  studytime\n",
      "traveltime    0.486513  -0.059070\n",
      "studytime    -0.059070   0.704324\n"
     ]
    },
    {
     "data": {
      "image/png": "[encoded data removed]",
      "text/plain": [
       "<Figure size 432x288 with 2 Axes>"
      ]
     },
     "metadata": {
      "needs_background": "light"
     },
     "output_type": "display_data"
    }
   ],
   "source": [
    "#COVARIANCE analysis\n",
    "covar=dfn.cov()\n",
    "print(covar)\n",
    "sb.heatmap(covar,cmap='BuGn_r')\n",
    "plt.show()"
   ]
  },
  {
   "cell_type": "code",
   "execution_count": 8,
   "metadata": {},
   "outputs": [
    {
     "name": "stdout",
     "output_type": "stream",
     "text": [
      "MAX AGE 22\n",
      "MIN AGE 15\n"
     ]
    }
   ],
   "source": [
    "age=np.array(df['age'])\n",
    "print('MAX AGE',max(age))\n",
    "print('MIN AGE',min(age))\n",
    "age=age.reshape(395,1)"
   ]
  },
  {
   "cell_type": "code",
   "execution_count": 9,
   "metadata": {},
   "outputs": [
    {
     "data": {
      "text/plain": [
       "array([[ 1.02304645,  0.23837976, -1.33095364, -1.33095364, -0.54628694,\n",
       "        -0.54628694, -0.54628694,  0.23837976, -1.33095364, -1.33095364,\n",
       "        -1.33095364, -1.33095364, -1.33095364, -1.33095364, -1.33095364,\n",
       "        -0.54628694, -0.54628694, -0.54628694,  0.23837976, -0.54628694,\n",
       "        -1.33095364, -1.33095364, -0.54628694, -0.54628694, -1.33095364,\n",
       "        -0.54628694, -1.33095364, -1.33095364, -0.54628694, -0.54628694,\n",
       "        -1.33095364, -1.33095364, -1.33095364, -1.33095364, -0.54628694,\n",
       "        -1.33095364, -1.33095364, -0.54628694, -1.33095364, -1.33095364,\n",
       "        -0.54628694, -1.33095364, -1.33095364, -1.33095364, -0.54628694,\n",
       "        -1.33095364, -0.54628694, -0.54628694, -1.33095364, -1.33095364,\n",
       "        -0.54628694, -1.33095364, -1.33095364, -1.33095364, -1.33095364,\n",
       "        -0.54628694, -1.33095364, -1.33095364, -1.33095364, -0.54628694,\n",
       "        -0.54628694, -0.54628694, -0.54628694, -0.54628694, -1.33095364,\n",
       "        -0.54628694, -1.33095364, -0.54628694, -1.33095364, -1.33095364,\n",
       "        -0.54628694, -1.33095364, -1.33095364, -0.54628694, -0.54628694,\n",
       "        -1.33095364, -1.33095364, -0.54628694,  0.23837976, -0.54628694,\n",
       "        -1.33095364, -1.33095364, -1.33095364, -1.33095364, -1.33095364,\n",
       "        -1.33095364, -0.54628694, -1.33095364, -0.54628694, -0.54628694,\n",
       "        -0.54628694, -1.33095364, -0.54628694, -0.54628694, -1.33095364,\n",
       "        -1.33095364, -0.54628694, -0.54628694, -0.54628694, -0.54628694,\n",
       "        -0.54628694, -0.54628694, -1.33095364, -1.33095364, -1.33095364,\n",
       "        -1.33095364, -1.33095364, -0.54628694, -1.33095364, -0.54628694,\n",
       "        -1.33095364, -0.54628694, -0.54628694, -1.33095364, -1.33095364,\n",
       "        -0.54628694, -1.33095364, -0.54628694,  0.23837976, -1.33095364,\n",
       "        -1.33095364, -1.33095364, -0.54628694, -0.54628694, -0.54628694,\n",
       "        -1.33095364, -1.33095364,  1.80771315,  1.02304645, -0.54628694,\n",
       "        -1.33095364, -1.33095364,  0.23837976, -0.54628694, -1.33095364,\n",
       "        -1.33095364,  0.23837976, -0.54628694, -0.54628694, -1.33095364,\n",
       "        -1.33095364, -0.54628694, -1.33095364, -0.54628694,  0.23837976,\n",
       "        -1.33095364, -1.33095364, -1.33095364, -0.54628694, -1.33095364,\n",
       "         1.02304645, -0.54628694, -1.33095364,  1.80771315,  0.23837976,\n",
       "        -1.33095364,  0.23837976,  1.02304645, -0.54628694, -0.54628694,\n",
       "         0.23837976, -1.33095364, -0.54628694,  0.23837976,  0.23837976,\n",
       "        -0.54628694, -0.54628694, -0.54628694, -0.54628694, -0.54628694,\n",
       "        -0.54628694, -0.54628694,  0.23837976, -0.54628694, -0.54628694,\n",
       "         0.23837976, -0.54628694,  0.23837976, -0.54628694,  0.23837976,\n",
       "        -0.54628694, -0.54628694,  0.23837976,  0.23837976, -0.54628694,\n",
       "         0.23837976, -0.54628694, -0.54628694,  0.23837976,  0.23837976,\n",
       "        -0.54628694,  0.23837976,  0.23837976, -0.54628694, -0.54628694,\n",
       "         0.23837976,  0.23837976],\n",
       "       [-0.54628694,  0.23837976, -0.54628694, -0.54628694, -0.54628694,\n",
       "         0.23837976,  0.23837976, -0.54628694,  0.23837976, -0.54628694,\n",
       "        -0.54628694, -0.54628694,  0.23837976,  1.80771315,  0.23837976,\n",
       "        -0.54628694,  1.02304645,  0.23837976,  0.23837976,  0.23837976,\n",
       "         1.02304645,  0.23837976,  0.23837976,  0.23837976,  0.23837976,\n",
       "        -0.54628694,  1.02304645, -0.54628694,  1.02304645,  0.23837976,\n",
       "         0.23837976,  1.02304645,  0.23837976,  0.23837976,  0.23837976,\n",
       "         0.23837976, -0.54628694, -0.54628694, -0.54628694,  0.23837976,\n",
       "        -0.54628694,  0.23837976,  1.02304645,  0.23837976,  0.23837976,\n",
       "        -0.54628694, -0.54628694,  1.02304645, -0.54628694,  0.23837976,\n",
       "         4.16171325,  1.02304645, -0.54628694,  1.02304645, -0.54628694,\n",
       "         1.02304645, -0.54628694,  0.23837976,  0.23837976,  0.23837976,\n",
       "         1.80771315,  1.02304645,  0.23837976,  1.02304645,  1.02304645,\n",
       "         1.02304645,  0.23837976,  1.02304645,  1.02304645,  0.23837976,\n",
       "         1.02304645,  1.02304645,  1.02304645,  1.80771315,  1.02304645,\n",
       "         1.02304645,  0.23837976,  0.23837976,  0.23837976,  1.02304645,\n",
       "         1.02304645,  1.02304645,  1.02304645,  0.23837976,  0.23837976,\n",
       "         1.02304645,  1.02304645,  0.23837976,  0.23837976,  1.02304645,\n",
       "         0.23837976,  1.02304645,  1.02304645,  1.02304645,  0.23837976,\n",
       "         1.02304645,  0.23837976,  1.02304645,  0.23837976,  1.80771315,\n",
       "         1.02304645,  1.02304645,  1.02304645,  1.02304645,  0.23837976,\n",
       "         0.23837976,  0.23837976,  1.80771315,  1.02304645,  2.59237985,\n",
       "         1.80771315,  1.80771315,  1.80771315,  1.80771315,  1.80771315,\n",
       "         1.80771315,  1.80771315,  1.80771315,  1.80771315,  1.02304645,\n",
       "         1.02304645,  0.23837976,  1.02304645,  0.23837976,  0.23837976,\n",
       "         0.23837976,  0.23837976,  0.23837976,  1.02304645,  0.23837976,\n",
       "         0.23837976,  0.23837976,  0.23837976,  1.02304645,  0.23837976,\n",
       "         1.02304645,  1.02304645,  1.02304645,  0.23837976,  1.80771315,\n",
       "         0.23837976,  1.02304645,  0.23837976,  1.80771315,  1.02304645,\n",
       "         1.02304645,  0.23837976,  1.02304645,  1.02304645,  1.02304645,\n",
       "         1.02304645,  0.23837976,  1.02304645,  1.80771315,  0.23837976,\n",
       "         1.02304645,  1.80771315,  0.23837976,  1.02304645,  0.23837976,\n",
       "         0.23837976,  1.02304645,  1.02304645,  1.02304645,  1.02304645,\n",
       "         1.02304645,  0.23837976,  0.23837976,  1.02304645,  1.02304645,\n",
       "         0.23837976,  1.02304645,  1.02304645,  1.80771315,  1.02304645,\n",
       "         0.23837976,  0.23837976,  1.02304645,  1.02304645,  2.59237985,\n",
       "         1.02304645,  1.02304645,  0.23837976,  1.02304645,  1.02304645,\n",
       "         0.23837976,  1.80771315,  1.02304645,  1.02304645,  1.02304645,\n",
       "         1.80771315,  1.02304645,  1.02304645,  2.59237985,  0.23837976,\n",
       "         3.37704655,  1.02304645]])"
      ]
     },
     "execution_count": 9,
     "metadata": {},
     "output_type": "execute_result"
    }
   ],
   "source": [
    "#### Normalization\n",
    "## Z-score norm\n",
    "\n",
    "from scipy import stats\n",
    "zscore=np.array(stats.zscore(age))\n",
    "zscore=zscore[0:394]\n",
    "zscore=zscore.reshape(2,197)\n",
    "zscore"
   ]
  },
  {
   "cell_type": "code",
   "execution_count": null,
   "metadata": {},
   "outputs": [],
   "source": []
  }
 ],
 "metadata": {
  "kernelspec": {
   "display_name": "Python 3",
   "language": "python",
   "name": "python3"
  },
  "language_info": {
   "codemirror_mode": {
    "name": "ipython",
    "version": 3
   },
   "file_extension": ".py",
   "mimetype": "text/x-python",
   "name": "python",
   "nbconvert_exporter": "python",
   "pygments_lexer": "ipython3",
   "version": "3.7.3"
  }
 },
 "nbformat": 4,
 "nbformat_minor": 2
}
